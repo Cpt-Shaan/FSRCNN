{
  "nbformat": 4,
  "nbformat_minor": 0,
  "metadata": {
    "colab": {
      "provenance": [],
      "mount_file_id": "1W5UJGFZ8PTvc7A08IKeipyPhvRVIyCng",
      "authorship_tag": "ABX9TyMc0xtE1nL1t3Hztz9ATEXZ",
      "include_colab_link": true
    },
    "kernelspec": {
      "name": "python3",
      "display_name": "Python 3"
    },
    "language_info": {
      "name": "python"
    }
  },
  "cells": [
    {
      "cell_type": "markdown",
      "metadata": {
        "id": "view-in-github",
        "colab_type": "text"
      },
      "source": [
        "<a href=\"https://colab.research.google.com/github/Cpt-Shaan/Summer_Intern_2024_IvLabs/blob/main/MNIST_SHaan.ipynb\" target=\"_parent\"><img src=\"https://colab.research.google.com/assets/colab-badge.svg\" alt=\"Open In Colab\"/></a>"
      ]
    },
    {
      "cell_type": "markdown",
      "source": [
        "Implementation of the Hand-written digit recognition model (Using MNIST dataset) from scratch using Numpy and Matplotlib. Used a Simple 2 Layer ANN for the implementation."
      ],
      "metadata": {
        "id": "HKfTKtowdd7l"
      }
    },
    {
      "cell_type": "markdown",
      "source": [
        "Importing the libraries"
      ],
      "metadata": {
        "id": "JAyhZWZ3pNJO"
      }
    },
    {
      "cell_type": "code",
      "execution_count": null,
      "metadata": {
        "id": "3e1x0n7KozMF"
      },
      "outputs": [],
      "source": [
        "import numpy as np\n",
        "import matplotlib.pyplot as plt"
      ]
    },
    {
      "cell_type": "markdown",
      "source": [
        "Mounting the Drive to the runtime"
      ],
      "metadata": {
        "id": "SNYm15_AZ8YQ"
      }
    },
    {
      "cell_type": "code",
      "source": [
        "from google.colab import drive\n",
        "drive.mount('/content/drive')"
      ],
      "metadata": {
        "colab": {
          "base_uri": "https://localhost:8080/"
        },
        "id": "PWfV6FnOA05C",
        "outputId": "5e2b4dd9-e87b-4a17-9474-ef61ed748ac4"
      },
      "execution_count": null,
      "outputs": [
        {
          "output_type": "stream",
          "name": "stdout",
          "text": [
            "Drive already mounted at /content/drive; to attempt to forcibly remount, call drive.mount(\"/content/drive\", force_remount=True).\n"
          ]
        }
      ]
    },
    {
      "cell_type": "markdown",
      "source": [
        "Storing the Paths of the File for initialization. Dataset downloaded from https://yann.lecun.com/exdb/mnist/ and uploaded to Drive\n"
      ],
      "metadata": {
        "id": "ziVBCrE7rDU3"
      }
    },
    {
      "cell_type": "code",
      "source": [
        "# Training Data\n",
        "x_train = \"/content/drive/MyDrive/MNIST/train-images.idx3-ubyte\"\n",
        "y_train = \"/content/drive/MyDrive/MNIST/train-labels.idx1-ubyte\"\n",
        "\n",
        "# Testing Data\n",
        "x_dev = \"/content/drive/MyDrive/MNIST/t10k-images.idx3-ubyte\"\n",
        "y_dev = \"/content/drive/MyDrive/MNIST/t10k-labels.idx1-ubyte\""
      ],
      "metadata": {
        "id": "gB3lHhTJ8l3k"
      },
      "execution_count": null,
      "outputs": []
    },
    {
      "cell_type": "markdown",
      "source": [
        "Function to read the ubyte (Binary) files and create the x_train and y_train arrays"
      ],
      "metadata": {
        "id": "CiR_BtE9rLLn"
      }
    },
    {
      "cell_type": "code",
      "source": [
        "def create_data(imgfile, labelfile, n):\n",
        "  file1 = open(imgfile, 'rb')\n",
        "  file2 = open(labelfile, 'rb')\n",
        "\n",
        "  file1.read(16) # Data starts after that\n",
        "  file2.read(8) # Data starts after that\n",
        "  images = []\n",
        "  labels = []\n",
        "  for i in range(n):\n",
        "    image = []\n",
        "    for i in range(784):  # Size of Image (28*28)\n",
        "      image.append(ord(file1.read(1)))  # Adding individual pixel values to the image list\n",
        "    images.append(image)  # Adding the image to the images list\n",
        "    labels.append(ord(file2.read(1)))\n",
        "\n",
        "  file1.close()\n",
        "  file2.close()\n",
        "\n",
        "  return images, labels\n"
      ],
      "metadata": {
        "id": "zGvZ4BOOBTzo"
      },
      "execution_count": null,
      "outputs": []
    },
    {
      "cell_type": "code",
      "source": [
        "x_train, y_train = create_data( x_train, y_train, 60000)\n",
        "x_dev, y_dev = create_data( x_dev, y_dev, 10000)"
      ],
      "metadata": {
        "id": "raypt_IfklY5"
      },
      "execution_count": null,
      "outputs": []
    },
    {
      "cell_type": "markdown",
      "source": [
        "Converting to Numpy Arrays for easier manipulation."
      ],
      "metadata": {
        "id": "3rMeDCxZacEF"
      }
    },
    {
      "cell_type": "code",
      "source": [
        "x_train = np.asarray(x_train)\n",
        "y_train = np.asarray(y_train)\n",
        "x_dev = np.asarray(x_dev)\n",
        "y_dev = np.asarray(y_dev)"
      ],
      "metadata": {
        "id": "-MDp3LG3k6Y7"
      },
      "execution_count": null,
      "outputs": []
    },
    {
      "cell_type": "markdown",
      "source": [
        "Showing a sample training label by plotting as an image in matplotlib"
      ],
      "metadata": {
        "id": "-zx3tEZc1Ie4"
      }
    },
    {
      "cell_type": "code",
      "source": [
        "sampla = x_train[17].reshape((28,28))\n",
        "plt.imshow( sampla, cmap = 'Greys', interpolation = 'None')"
      ],
      "metadata": {
        "colab": {
          "base_uri": "https://localhost:8080/",
          "height": 447
        },
        "id": "moMelynUpvU6",
        "outputId": "ea0e327b-d79c-4acd-88c0-3e6d276b4992"
      },
      "execution_count": null,
      "outputs": [
        {
          "output_type": "execute_result",
          "data": {
            "text/plain": [
              "<matplotlib.image.AxesImage at 0x78a2782e1450>"
            ]
          },
          "metadata": {},
          "execution_count": 9
        },
        {
          "output_type": "display_data",
          "data": {
            "text/plain": [
              "<Figure size 640x480 with 1 Axes>"
            ],
            "image/png": "[encoded data removed]"
          },
          "metadata": {}
        }
      ]
    },
    {
      "cell_type": "markdown",
      "source": [
        "Defining Functions for Working with the Neural Network.\n",
        "\n",
        "Layer 1 : ReLu layer , 10 Nodes\n",
        "\n",
        "Layer 2 (Output Layer) : Softmax , 10 Nodes"
      ],
      "metadata": {
        "id": "dQ7dqTiq7ilc"
      }
    },
    {
      "cell_type": "code",
      "source": [
        "def init_params():\n",
        "  # Randomly initialzing trainable parameters and standardizing it\n",
        "  w1 = np.random.rand(10, 784) - 0.5\n",
        "  b1 = np.random.rand(10, 1) - 0.5\n",
        "  w2 = np.random.rand(10,10) - 0.5\n",
        "  b2 = np.random.rand(10,1) - 0.5\n",
        "  return w1,b1,w2,b2\n",
        "\n",
        "def Softmax(z):\n",
        "  # Output activation Function for Multiclass Classification\n",
        "  return np.exp(z)/sum(np.exp(z))\n",
        "\n",
        "def ReLu(z):\n",
        "  # Hidden Activation Function (Rectified Linear Unit)\n",
        "  return np.maximum(z,0)\n",
        "\n",
        "def Relu_deriv(z):\n",
        "  return z > 0\n",
        "\n",
        "def ForwardProp(w1,b1,w2,b2,x1):\n",
        "  # One Forward Propagation step\n",
        "  z1 = w1.dot(x1) + b1\n",
        "  a1 = ReLu(z1)\n",
        "  z2 = w2.dot(a1) + b2\n",
        "  a2 = Softmax(z2)\n",
        "  return a1,z1,a2,z2\n",
        "\n",
        "def onehot_encode(y):\n",
        "  # One Hot Encoding of the labels to convert to suitable output label\n",
        "  one_hot_Y = np.zeros((y.size, y.max() + 1))\n",
        "  one_hot_Y[np.arange(y.size), y] = 1\n",
        "  one_hot_Y = one_hot_Y.T\n",
        "  return one_hot_Y\n",
        "\n",
        "def Cross_Entropy_Loss(y_hat, y, m, n):\n",
        "  # Loss function for multi-class classification\n",
        "  y = onehot_encode(y)\n",
        "  loss = (1/m) * np.sum((-1/n)* np.sum(y * np.log(y_hat)))\n",
        "  return loss\n",
        "\n",
        "def BackProp(w1, b1, x1, z1, a1, w2, b2, z2, a2, y, m):\n",
        "  # Backpropogation step\n",
        "  # Calculating gradients at each step\n",
        "  y = onehot_encode(y)\n",
        "  dz2 = a2 - y\n",
        "  dw2 = 1/m * dz2.dot(a1.T)\n",
        "  db2 = 1/m * np.sum(dz2)\n",
        "  dz1 = (w2.T).dot(dz2) * Relu_deriv(z1)\n",
        "  dw1 = 1/m * dz1.dot(x1.T)\n",
        "  db1 = 1/m * np.sum(dz1)\n",
        "  return dw1, db1, dw2, db2\n",
        "\n",
        "def update_params(w1, b1, w2, b2, dw1, db1, dw2, db2, alpha):\n",
        "  # Subtracting parameters by gradients to perform one step of gradient descent\n",
        "  w1 = w1 - alpha * dw1\n",
        "  b1 = b1 - alpha * db1\n",
        "  w2 = w2 - alpha * dw2\n",
        "  b2 = b2 - alpha * db2\n",
        "  return w1, b1, w2, b2\n",
        "\n",
        "def accuracy(a2, y):\n",
        "  # Calculating accuracy\n",
        "  predictions = np.argmax(a2, 0)\n",
        "  return (np.sum(predictions == y) / y.size)*100\n",
        "\n",
        "def train_model(x1, y, epochs, alpha, w1, b1, w2, b2, decay):\n",
        "  m,n = x1.shape\n",
        "  Loss = []\n",
        "  Accuracy = []\n",
        "  for i in range(1,epochs + 1):   # For every epoch running 1 step each of forward and backward prop\n",
        "    a1,z1,a2,z2 = ForwardProp(w1,b1,w2,b2,x1)\n",
        "    Loss.append( Cross_Entropy_Loss(a2,y,m,n) )\n",
        "    Accuracy.append( accuracy(a2, y) )\n",
        "    if (i%10 == 0 or i==1):\n",
        "      # Printing Loss and Accuracy for every 10th Epoch\n",
        "      print(f\" Epoch no : {i} - Loss : {Cross_Entropy_Loss(a2,y,m,n)} , Accuracy : {accuracy(a2, y)}% \")\n",
        "    dw1, db1, dw2, db2 = BackProp(w1, b1, x1, z1, a1, w2, b2, z2, a2, y, m)\n",
        "    w1,b1,w2,b2 = update_params(w1, b1, w2, b2, dw1, db1, dw2, db2, alpha)\n",
        "    alpha = (1/(1 + decay*i))*alpha # Learning Rate Decay\n",
        "  return w1, b1, w2, b2, Loss, Accuracy\n"
      ],
      "metadata": {
        "id": "Y7gbVgaZ7Owj"
      },
      "execution_count": null,
      "outputs": []
    },
    {
      "cell_type": "markdown",
      "source": [
        "Making the input dimensions right by transposing"
      ],
      "metadata": {
        "id": "QHhj1ga2DuFF"
      }
    },
    {
      "cell_type": "code",
      "source": [
        "x_train = x_train.T\n",
        "x_dev = x_dev.T"
      ],
      "metadata": {
        "id": "5c8WGi1V9WWe"
      },
      "execution_count": null,
      "outputs": []
    },
    {
      "cell_type": "markdown",
      "source": [
        "Standardizing Inputs"
      ],
      "metadata": {
        "id": "xPGDlZfgDKFF"
      }
    },
    {
      "cell_type": "code",
      "source": [
        "x_train = x_train / 255.\n",
        "x_dev = x_dev / 255."
      ],
      "metadata": {
        "id": "ftMmiIoQClgq"
      },
      "execution_count": null,
      "outputs": []
    },
    {
      "cell_type": "markdown",
      "source": [
        "Initializing Parameters"
      ],
      "metadata": {
        "id": "62-Flzzr3mXm"
      }
    },
    {
      "cell_type": "code",
      "source": [
        "w1, b1, w2, b2 = init_params()"
      ],
      "metadata": {
        "id": "fTJ47TJH3f0w"
      },
      "execution_count": null,
      "outputs": []
    },
    {
      "cell_type": "markdown",
      "source": [
        "Creating lists to store accuracies and loss values at every training epoch , to further plot them against no of epochs."
      ],
      "metadata": {
        "id": "eP0suIoXeR-q"
      }
    },
    {
      "cell_type": "code",
      "source": [
        "total_loss = list()\n",
        "total_acc = list()"
      ],
      "metadata": {
        "id": "0LqN1sZr88fA"
      },
      "execution_count": null,
      "outputs": []
    },
    {
      "cell_type": "markdown",
      "source": [
        "Training the Data"
      ],
      "metadata": {
        "id": "_dQVlI-gIyHc"
      }
    },
    {
      "cell_type": "code",
      "source": [
        "w1, b1, w2, b2, Loss, Accuracy = train_model( x_train, y_train, 100, 0.006, w1, b1, w2, b2, 0 )"
      ],
      "metadata": {
        "colab": {
          "base_uri": "https://localhost:8080/"
        },
        "id": "WS81fFtiPWYW",
        "outputId": "21c1cd5d-d8b8-486d-f96a-df7121a77d31"
      },
      "execution_count": null,
      "outputs": [
        {
          "output_type": "stream",
          "name": "stdout",
          "text": [
            " Epoch no : 1 - Loss : 0.00026991903226128487 , Accuracy : 93.92666666666668% \n",
            " Epoch no : 10 - Loss : 0.0002612262825645051 , Accuracy : 94.12166666666667% \n",
            " Epoch no : 20 - Loss : 0.0002588092983258445 , Accuracy : 94.19166666666666% \n",
            " Epoch no : 30 - Loss : 0.0002574753278820425 , Accuracy : 94.215% \n",
            " Epoch no : 40 - Loss : 0.0002565830283141114 , Accuracy : 94.21166666666667% \n",
            " Epoch no : 50 - Loss : 0.00025592660744036945 , Accuracy : 94.21666666666667% \n",
            " Epoch no : 60 - Loss : 0.0002554145924315011 , Accuracy : 94.21000000000001% \n",
            " Epoch no : 70 - Loss : 0.0002549928634186198 , Accuracy : 94.21666666666667% \n",
            " Epoch no : 80 - Loss : 0.00025463209972883177 , Accuracy : 94.21666666666667% \n",
            " Epoch no : 90 - Loss : 0.00025431544725282545 , Accuracy : 94.23666666666666% \n",
            " Epoch no : 100 - Loss : 0.00025403027095500234 , Accuracy : 94.24166666666667% \n"
          ]
        }
      ]
    },
    {
      "cell_type": "markdown",
      "source": [
        "Adding data of all sub-training sessions."
      ],
      "metadata": {
        "id": "3xbdGxate6sY"
      }
    },
    {
      "cell_type": "code",
      "source": [
        "total_loss.extend(Loss)\n",
        "total_acc.extend(Accuracy)"
      ],
      "metadata": {
        "id": "frPCWkbg8jEJ"
      },
      "execution_count": null,
      "outputs": []
    },
    {
      "cell_type": "markdown",
      "source": [
        "Plotting Loss v/s No of epochs"
      ],
      "metadata": {
        "id": "v_vTzmar1rPY"
      }
    },
    {
      "cell_type": "code",
      "source": [
        "iterations = np.linspace(0,3000,3000)\n",
        "plt.plot(iterations, total_loss)\n",
        "plt.xlabel(\"Epochs\")\n",
        "plt.ylabel(\"Loss\")\n",
        "plt.title(\"Loss v/s Epochs\")\n",
        "plt.show()"
      ],
      "metadata": {
        "colab": {
          "base_uri": "https://localhost:8080/",
          "height": 472
        },
        "id": "y0TeQ2g0SN8j",
        "outputId": "bab83537-41d0-46fb-c60e-074e5f3aa20c"
      },
      "execution_count": null,
      "outputs": [
        {
          "output_type": "display_data",
          "data": {
            "text/plain": [
              "<Figure size 640x480 with 1 Axes>"
            ],
            "image/png": "[encoded data removed]"
          },
          "metadata": {}
        }
      ]
    },
    {
      "cell_type": "markdown",
      "source": [
        "Plotting Accuracy v/s No of epochs"
      ],
      "metadata": {
        "id": "aRYOL5qq1vDy"
      }
    },
    {
      "cell_type": "code",
      "source": [
        "plt.plot(iterations, total_acc)\n",
        "plt.xlabel(\"Epochs\")\n",
        "plt.ylabel(\"Accuracy (%)\")\n",
        "plt.title(\"Accuracy v/s Epochs\")\n",
        "plt.show()"
      ],
      "metadata": {
        "colab": {
          "base_uri": "https://localhost:8080/",
          "height": 472
        },
        "id": "q5I36RmXuCYG",
        "outputId": "667f841e-8476-4232-ec24-53dd5d8364d7"
      },
      "execution_count": null,
      "outputs": [
        {
          "output_type": "display_data",
          "data": {
            "text/plain": [
              "<Figure size 640x480 with 1 Axes>"
            ],
            "image/png": "[encoded data removed]"
          },
          "metadata": {}
        }
      ]
    },
    {
      "cell_type": "markdown",
      "source": [
        "Function for Working with Testing Data"
      ],
      "metadata": {
        "id": "c_v1qwTM1y01"
      }
    },
    {
      "cell_type": "code",
      "source": [
        "def Testing(x_dev, y_dev, w1, b1, w2, b2):\n",
        "  # Implementing only the forward propogation step in testing process\n",
        "  m,n = x_dev.shape\n",
        "  a1,z1,a2,z2 = ForwardProp(w1,b1,w2,b2,x_dev)\n",
        "  loss = Cross_Entropy_Loss(a2, y_dev, m, n)\n",
        "  acc = accuracy(a2, y_dev)\n",
        "  return loss, acc"
      ],
      "metadata": {
        "id": "goc7mS2dwW5v"
      },
      "execution_count": null,
      "outputs": []
    },
    {
      "cell_type": "markdown",
      "source": [
        "Testing the Data"
      ],
      "metadata": {
        "id": "8TmIEh4tfWXM"
      }
    },
    {
      "cell_type": "code",
      "source": [
        "loss, acc = Testing(x_dev, y_dev, w1, b1, w2, b2)"
      ],
      "metadata": {
        "id": "tmiXRAT9xTAQ"
      },
      "execution_count": null,
      "outputs": []
    },
    {
      "cell_type": "markdown",
      "source": [
        "Displaying the Test Data accuracy and Loss on the optimized Model"
      ],
      "metadata": {
        "id": "4GzwR3uX14K2"
      }
    },
    {
      "cell_type": "code",
      "source": [
        "print(f\"Testing Data: Loss : {loss} , Accuracy : {acc}%\")"
      ],
      "metadata": {
        "colab": {
          "base_uri": "https://localhost:8080/"
        },
        "id": "xvtuV827xrdI",
        "outputId": "21a1cb47-34fd-4c2d-a672-9084f3547cb4"
      },
      "execution_count": null,
      "outputs": [
        {
          "output_type": "stream",
          "name": "stdout",
          "text": [
            "Testing Data: Loss : 0.0002574034745165209 , Accuracy : 94.1%\n"
          ]
        }
      ]
    }
  ]
}
{
  "nbformat": 4,
  "nbformat_minor": 0,
  "metadata": {
    "colab": {
      "provenance": [],
      "gpuType": "V28",
      "authorship_tag": "ABX9TyPS+cWQWHLLDnCxO0Mdzgrr",
      "include_colab_link": true
    },
    "kernelspec": {
      "name": "python3",
      "display_name": "Python 3"
    },
    "language_info": {
      "name": "python"
    },
    "accelerator": "TPU"
  },
  "cells": [
    {
      "cell_type": "markdown",
      "metadata": {
        "id": "view-in-github",
        "colab_type": "text"
      },
      "source": [
        "<a href=\"https://colab.research.google.com/github/Cpt-Shaan/Summer_Intern_2024_IvLabs/blob/main/MNIST_PyTorch.ipynb\" target=\"_parent\"><img src=\"https://colab.research.google.com/assets/colab-badge.svg\" alt=\"Open In Colab\"/></a>"
      ]
    },
    {
      "cell_type": "markdown",
      "source": [
        "Implementation of the Hand-written digit recognition model (Using MNIST dataset) using PyTorch. Used a CNN architecture (based on the Le-Net architecture) for the implementation."
      ],
      "metadata": {
        "id": "FKEdopQLr-b3"
      }
    },
    {
      "cell_type": "markdown",
      "source": [
        "Importing the necessary libraries"
      ],
      "metadata": {
        "id": "sqjO6n55lC3S"
      }
    },
    {
      "cell_type": "code",
      "execution_count": null,
      "metadata": {
        "id": "rOgRfKahpXX6"
      },
      "outputs": [],
      "source": [
        "from torchvision import datasets  # To access the MNIST dataset\n",
        "from torchvision.transforms import ToTensor\n",
        "from torch.utils.data import DataLoader\n",
        "import torch.nn as nn\n",
        "import torch.nn.functional as F\n",
        "import torch.optim as optim\n",
        "import torch"
      ]
    },
    {
      "cell_type": "markdown",
      "source": [
        "Downloading and Separating the Training and Testing Datasets"
      ],
      "metadata": {
        "id": "2dFsu-OulUqo"
      }
    },
    {
      "cell_type": "code",
      "source": [
        "train_data = datasets.MNIST( root = 'data' , train = True , transform = ToTensor() , download = True)\n",
        "test_data = datasets.MNIST(root = 'data' , train = False , transform = ToTensor() , download = True)"
      ],
      "metadata": {
        "id": "FAaMgfqup6If",
        "colab": {
          "base_uri": "https://localhost:8080/"
        },
        "outputId": "ec1fcd2f-1323-4644-ba2f-86c9833dd821"
      },
      "execution_count": null,
      "outputs": [
        {
          "output_type": "stream",
          "name": "stdout",
          "text": [
            "Downloading http://yann.lecun.com/exdb/mnist/train-images-idx3-ubyte.gz\n",
            "Failed to download (trying next):\n",
            "HTTP Error 403: Forbidden\n",
            "\n",
            "Downloading https://ossci-datasets.s3.amazonaws.com/mnist/train-images-idx3-ubyte.gz\n",
            "Downloading https://ossci-datasets.s3.amazonaws.com/mnist/train-images-idx3-ubyte.gz to data/MNIST/raw/train-images-idx3-ubyte.gz\n"
          ]
        },
        {
          "output_type": "stream",
          "name": "stderr",
          "text": [
            "100%|██████████| 9912422/9912422 [00:00<00:00, 32505962.58it/s]\n"
          ]
        },
        {
          "output_type": "stream",
          "name": "stdout",
          "text": [
            "Extracting data/MNIST/raw/train-images-idx3-ubyte.gz to data/MNIST/raw\n",
            "\n",
            "Downloading http://yann.lecun.com/exdb/mnist/train-labels-idx1-ubyte.gz\n",
            "Failed to download (trying next):\n",
            "HTTP Error 403: Forbidden\n",
            "\n",
            "Downloading https://ossci-datasets.s3.amazonaws.com/mnist/train-labels-idx1-ubyte.gz\n",
            "Downloading https://ossci-datasets.s3.amazonaws.com/mnist/train-labels-idx1-ubyte.gz to data/MNIST/raw/train-labels-idx1-ubyte.gz\n"
          ]
        },
        {
          "output_type": "stream",
          "name": "stderr",
          "text": [
            "100%|██████████| 28881/28881 [00:00<00:00, 1100843.28it/s]\n"
          ]
        },
        {
          "output_type": "stream",
          "name": "stdout",
          "text": [
            "Extracting data/MNIST/raw/train-labels-idx1-ubyte.gz to data/MNIST/raw\n",
            "\n",
            "Downloading http://yann.lecun.com/exdb/mnist/t10k-images-idx3-ubyte.gz\n",
            "Failed to download (trying next):\n",
            "HTTP Error 403: Forbidden\n",
            "\n",
            "Downloading https://ossci-datasets.s3.amazonaws.com/mnist/t10k-images-idx3-ubyte.gz\n",
            "Downloading https://ossci-datasets.s3.amazonaws.com/mnist/t10k-images-idx3-ubyte.gz to data/MNIST/raw/t10k-images-idx3-ubyte.gz\n"
          ]
        },
        {
          "output_type": "stream",
          "name": "stderr",
          "text": [
            "100%|██████████| 1648877/1648877 [00:00<00:00, 8973670.76it/s]\n"
          ]
        },
        {
          "output_type": "stream",
          "name": "stdout",
          "text": [
            "Extracting data/MNIST/raw/t10k-images-idx3-ubyte.gz to data/MNIST/raw\n",
            "\n",
            "Downloading http://yann.lecun.com/exdb/mnist/t10k-labels-idx1-ubyte.gz\n",
            "Failed to download (trying next):\n",
            "HTTP Error 403: Forbidden\n",
            "\n",
            "Downloading https://ossci-datasets.s3.amazonaws.com/mnist/t10k-labels-idx1-ubyte.gz\n",
            "Downloading https://ossci-datasets.s3.amazonaws.com/mnist/t10k-labels-idx1-ubyte.gz to data/MNIST/raw/t10k-labels-idx1-ubyte.gz\n"
          ]
        },
        {
          "output_type": "stream",
          "name": "stderr",
          "text": [
            "100%|██████████| 4542/4542 [00:00<00:00, 6902365.50it/s]"
          ]
        },
        {
          "output_type": "stream",
          "name": "stdout",
          "text": [
            "Extracting data/MNIST/raw/t10k-labels-idx1-ubyte.gz to data/MNIST/raw\n",
            "\n"
          ]
        },
        {
          "output_type": "stream",
          "name": "stderr",
          "text": [
            "\n"
          ]
        }
      ]
    },
    {
      "cell_type": "markdown",
      "source": [
        "Converting to the Dataloader format"
      ],
      "metadata": {
        "id": "AuLYa4Vplzb6"
      }
    },
    {
      "cell_type": "code",
      "source": [
        "train_loader = DataLoader(train_data, batch_size = 1024)\n",
        "test_loader = DataLoader(test_data, batch_size = 1024)"
      ],
      "metadata": {
        "id": "CDll3A6VqdQC"
      },
      "execution_count": null,
      "outputs": []
    },
    {
      "cell_type": "markdown",
      "source": [
        "Defining the Model Architecture.\n",
        "\n",
        "\n",
        "1.   2D Convolutional layer with filter size 5 and 6 feature maps\n",
        "2.   Maxpooling Layer with stride = 2\n",
        "3.   2D Convolutional layer with filter size 5 and 16 feature maps\n",
        "4.   Maxpooling Layer with stride = 2\n",
        "5.   Fully Connected Dense layer of 256 neurons\n",
        "6.   Fully Connected Dense layer of 120 neurons\n",
        "7.   Fully Connected Dense layer of 84 neurons\n",
        "8.   Fully Connected Dense layer of 10 neurons (softmax output of 10 classes)\n",
        "\n",
        "1,3,5,6,7 are followed by a ReLu non-linearity\n"
      ],
      "metadata": {
        "id": "y5IVecdnl5o3"
      }
    },
    {
      "cell_type": "code",
      "source": [
        "class CNN(nn.Module):\n",
        "  def __init__(self):\n",
        "    super(CNN, self).__init__()\n",
        "\n",
        "    # Network Architecture - Le Net Architecture\n",
        "    self.conv1 = nn.Conv2d(1,6,5)\n",
        "    self.conv2 = nn.Conv2d(6,16,5)\n",
        "    self.fc1 = nn.Linear(256,120)\n",
        "    self.fc2 = nn.Linear(120,84)\n",
        "    self.fc3 = nn.Linear(84,10)\n",
        "\n",
        "  def forward(self, x):\n",
        "    x = F.relu(F.max_pool2d(self.conv1(x),2))\n",
        "    x = F.relu(F.max_pool2d(self.conv2(x),2))\n",
        "    x = x.view(-1,256)\n",
        "    x = F.relu(self.fc1(x))\n",
        "    x = F.relu(self.fc2(x))\n",
        "    x = F.softmax(self.fc3(x))\n",
        "    return x"
      ],
      "metadata": {
        "id": "vFZ41ydXr5dB"
      },
      "execution_count": null,
      "outputs": []
    },
    {
      "cell_type": "markdown",
      "source": [
        "Entering the training and the testing data on the device and setting the loss function for training (Cross Entropy Loss). Defining the functions for training and testing the data."
      ],
      "metadata": {
        "id": "CIndybwPnPxs"
      }
    },
    {
      "cell_type": "code",
      "source": [
        "device = torch.device('cuda' if torch.cuda.is_available() else 'cpu') # Checking availibilty of GPU , else using CPU\n",
        "model = CNN().to(device)\n",
        "optimizer = optim.Adam(model.parameters() , lr = 0.001)\n",
        "loss_fn = nn.CrossEntropyLoss() # Loss Function for the model\n",
        "\n",
        "# List to store accuracy and loss during epochs , and further use it for plotting against no of epochs\n",
        "accuracy = []\n",
        "loss = []\n",
        "\n",
        "def train(epoch):\n",
        "  model.train() # Setting Model Mode to training\n",
        "  for batch_idx, (data,target) in enumerate(train_loader):\n",
        "    data, target = data.to(device) , target.to(device)\n",
        "    optimizer.zero_grad() # Initializing gradients to zero\n",
        "    output = model(data)\n",
        "    loss = loss_fn(output, target)\n",
        "    loss.backward() # Backward Prop step\n",
        "    optimizer.step()\n",
        "\n",
        "    # Printing the loss after every 20 batches\n",
        "    if batch_idx % 20 == 0:\n",
        "      print(f'Train epoch {epoch} [{batch_idx * len(data)} / {len(train_loader.dataset)} ({100. * batch_idx / len(train_loader) :.0f}%)] \\t {loss.item() :.4f}')\n",
        "\n",
        "def test():\n",
        "  model.eval()  # Setting Model mode to testing (Deactivates dropout steps if any)\n",
        "  test_loss = 0\n",
        "  correct = 0\n",
        "\n",
        "  with torch.no_grad():\n",
        "    for data, target in test_loader:\n",
        "      data, target = data.to(device) , target.to(device)\n",
        "      output = model(data)  # Forward Propogation only\n",
        "      test_loss += loss_fn(output, target).item()\n",
        "      pred = output.argmax(dim=1, keepdim = True)\n",
        "      correct += pred.eq(target.view_as(pred)).sum().item()\n",
        "\n",
        "  # Appeniding the epoch loss and accuracy to the lists\n",
        "  accuracy.append(100. * correct / len(test_loader.dataset))\n",
        "  loss.append(test_loss)\n",
        "  test_loss /= len(test_loader.dataset)\n",
        "\n",
        "  print(f'Test Set Average Loss: {test_loss} , Accuracy: {correct} / {len(test_loader.dataset)} ({100. * correct / len(test_loader.dataset):.0f}%\\n)')\n"
      ],
      "metadata": {
        "id": "Eqi13p4E1PUo"
      },
      "execution_count": null,
      "outputs": []
    },
    {
      "cell_type": "markdown",
      "source": [
        "Training the model and simultaneously display testing accuracy and loss"
      ],
      "metadata": {
        "id": "aVUwz8Q8qcSc"
      }
    },
    {
      "cell_type": "code",
      "source": [
        "epochs = 50\n",
        "for epoch in range(1,epochs):\n",
        "  train(epoch)\n",
        "  test()"
      ],
      "metadata": {
        "colab": {
          "base_uri": "https://localhost:8080/"
        },
        "id": "EaQArRoM9GN5",
        "outputId": "b338844d-54eb-42a8-b4a8-d3c5786fac08"
      },
      "execution_count": null,
      "outputs": [
        {
          "output_type": "stream",
          "name": "stderr",
          "text": [
            "<ipython-input-11-14ee20e58f22>:18: UserWarning: Implicit dimension choice for softmax has been deprecated. Change the call to include dim=X as an argument.\n",
            "  x = F.softmax(self.fc3(x))\n"
          ]
        },
        {
          "output_type": "stream",
          "name": "stdout",
          "text": [
            "Train epoch 1 [0 / 60000 (0%)] \t 2.3027\n",
            "Train epoch 1 [20480 / 60000 (34%)] \t 2.2184\n",
            "Train epoch 1 [40960 / 60000 (68%)] \t 1.9589\n",
            "Test Set Average Loss: 0.0018462893724441529 , Accuracy: 6185 / 10000 (62%\n",
            ")\n",
            "Train epoch 2 [0 / 60000 (0%)] \t 1.8518\n",
            "Train epoch 2 [20480 / 60000 (34%)] \t 1.8419\n",
            "Train epoch 2 [40960 / 60000 (68%)] \t 1.8376\n",
            "Test Set Average Loss: 0.0017944286346435548 , Accuracy: 6632 / 10000 (66%\n",
            ")\n",
            "Train epoch 3 [0 / 60000 (0%)] \t 1.7915\n",
            "Train epoch 3 [20480 / 60000 (34%)] \t 1.7341\n",
            "Train epoch 3 [40960 / 60000 (68%)] \t 1.7310\n",
            "Test Set Average Loss: 0.0017055930614471436 , Accuracy: 7561 / 10000 (76%\n",
            ")\n",
            "Train epoch 4 [0 / 60000 (0%)] \t 1.7028\n",
            "Train epoch 4 [20480 / 60000 (34%)] \t 1.7065\n",
            "Train epoch 4 [40960 / 60000 (68%)] \t 1.7064\n",
            "Test Set Average Loss: 0.0016949570655822755 , Accuracy: 7665 / 10000 (77%\n",
            ")\n",
            "Train epoch 5 [0 / 60000 (0%)] \t 1.6928\n",
            "Train epoch 5 [20480 / 60000 (34%)] \t 1.6969\n",
            "Train epoch 5 [40960 / 60000 (68%)] \t 1.6943\n",
            "Test Set Average Loss: 0.001688674223423004 , Accuracy: 7726 / 10000 (77%\n",
            ")\n",
            "Train epoch 6 [0 / 60000 (0%)] \t 1.6842\n",
            "Train epoch 6 [20480 / 60000 (34%)] \t 1.6919\n",
            "Train epoch 6 [40960 / 60000 (68%)] \t 1.6863\n",
            "Test Set Average Loss: 0.0016820075392723084 , Accuracy: 7779 / 10000 (78%\n",
            ")\n",
            "Train epoch 7 [0 / 60000 (0%)] \t 1.6772\n",
            "Train epoch 7 [20480 / 60000 (34%)] \t 1.6867\n",
            "Train epoch 7 [40960 / 60000 (68%)] \t 1.6803\n",
            "Test Set Average Loss: 0.0016786863684654235 , Accuracy: 7824 / 10000 (78%\n",
            ")\n",
            "Train epoch 8 [0 / 60000 (0%)] \t 1.6721\n",
            "Train epoch 8 [20480 / 60000 (34%)] \t 1.6842\n",
            "Train epoch 8 [40960 / 60000 (68%)] \t 1.6756\n",
            "Test Set Average Loss: 0.001675257384777069 , Accuracy: 7856 / 10000 (79%\n",
            ")\n",
            "Train epoch 9 [0 / 60000 (0%)] \t 1.6681\n",
            "Train epoch 9 [20480 / 60000 (34%)] \t 1.6856\n",
            "Train epoch 9 [40960 / 60000 (68%)] \t 1.6723\n",
            "Test Set Average Loss: 0.0016724512815475465 , Accuracy: 7883 / 10000 (79%\n",
            ")\n",
            "Train epoch 10 [0 / 60000 (0%)] \t 1.6650\n",
            "Train epoch 10 [20480 / 60000 (34%)] \t 1.6825\n",
            "Train epoch 10 [40960 / 60000 (68%)] \t 1.6669\n",
            "Test Set Average Loss: 0.0016034716129302979 , Accuracy: 8605 / 10000 (86%\n",
            ")\n",
            "Train epoch 11 [0 / 60000 (0%)] \t 1.6006\n",
            "Train epoch 11 [20480 / 60000 (34%)] \t 1.6073\n",
            "Train epoch 11 [40960 / 60000 (68%)] \t 1.5916\n",
            "Test Set Average Loss: 0.001589765202999115 , Accuracy: 8726 / 10000 (87%\n",
            ")\n",
            "Train epoch 12 [0 / 60000 (0%)] \t 1.5804\n",
            "Train epoch 12 [20480 / 60000 (34%)] \t 1.5994\n",
            "Train epoch 12 [40960 / 60000 (68%)] \t 1.5825\n",
            "Test Set Average Loss: 0.0015858542323112488 , Accuracy: 8758 / 10000 (88%\n",
            ")\n",
            "Train epoch 13 [0 / 60000 (0%)] \t 1.5752\n",
            "Train epoch 13 [20480 / 60000 (34%)] \t 1.5961\n",
            "Train epoch 13 [40960 / 60000 (68%)] \t 1.5774\n",
            "Test Set Average Loss: 0.0015837181806564332 , Accuracy: 8780 / 10000 (88%\n",
            ")\n",
            "Train epoch 14 [0 / 60000 (0%)] \t 1.5729\n",
            "Train epoch 14 [20480 / 60000 (34%)] \t 1.5918\n",
            "Train epoch 14 [40960 / 60000 (68%)] \t 1.5754\n",
            "Test Set Average Loss: 0.0015815924525260925 , Accuracy: 8796 / 10000 (88%\n",
            ")\n",
            "Train epoch 15 [0 / 60000 (0%)] \t 1.5704\n",
            "Train epoch 15 [20480 / 60000 (34%)] \t 1.5884\n",
            "Train epoch 15 [40960 / 60000 (68%)] \t 1.5723\n",
            "Test Set Average Loss: 0.0015809534907341005 , Accuracy: 8798 / 10000 (88%\n",
            ")\n",
            "Train epoch 16 [0 / 60000 (0%)] \t 1.5682\n",
            "Train epoch 16 [20480 / 60000 (34%)] \t 1.5867\n",
            "Train epoch 16 [40960 / 60000 (68%)] \t 1.5681\n",
            "Test Set Average Loss: 0.001580599558353424 , Accuracy: 8804 / 10000 (88%\n",
            ")\n",
            "Train epoch 17 [0 / 60000 (0%)] \t 1.5678\n",
            "Train epoch 17 [20480 / 60000 (34%)] \t 1.5866\n",
            "Train epoch 17 [40960 / 60000 (68%)] \t 1.5664\n",
            "Test Set Average Loss: 0.0015776850819587708 , Accuracy: 8831 / 10000 (88%\n",
            ")\n",
            "Train epoch 18 [0 / 60000 (0%)] \t 1.5667\n",
            "Train epoch 18 [20480 / 60000 (34%)] \t 1.5848\n",
            "Train epoch 18 [40960 / 60000 (68%)] \t 1.5649\n",
            "Test Set Average Loss: 0.0015776598334312439 , Accuracy: 8828 / 10000 (88%\n",
            ")\n",
            "Train epoch 19 [0 / 60000 (0%)] \t 1.5667\n",
            "Train epoch 19 [20480 / 60000 (34%)] \t 1.5342\n",
            "Train epoch 19 [40960 / 60000 (68%)] \t 1.4986\n",
            "Test Set Average Loss: 0.0014929742574691773 , Accuracy: 9700 / 10000 (97%\n",
            ")\n",
            "Train epoch 20 [0 / 60000 (0%)] \t 1.4896\n",
            "Train epoch 20 [20480 / 60000 (34%)] \t 1.4913\n",
            "Train epoch 20 [40960 / 60000 (68%)] \t 1.4950\n",
            "Test Set Average Loss: 0.0014893576979637146 , Accuracy: 9735 / 10000 (97%\n",
            ")\n",
            "Train epoch 21 [0 / 60000 (0%)] \t 1.4876\n",
            "Train epoch 21 [20480 / 60000 (34%)] \t 1.4899\n",
            "Train epoch 21 [40960 / 60000 (68%)] \t 1.4908\n",
            "Test Set Average Loss: 0.001487330424785614 , Accuracy: 9762 / 10000 (98%\n",
            ")\n",
            "Train epoch 22 [0 / 60000 (0%)] \t 1.4882\n",
            "Train epoch 22 [20480 / 60000 (34%)] \t 1.4873\n",
            "Train epoch 22 [40960 / 60000 (68%)] \t 1.4904\n",
            "Test Set Average Loss: 0.0014878215670585631 , Accuracy: 9748 / 10000 (97%\n",
            ")\n",
            "Train epoch 23 [0 / 60000 (0%)] \t 1.4844\n",
            "Train epoch 23 [20480 / 60000 (34%)] \t 1.4910\n",
            "Train epoch 23 [40960 / 60000 (68%)] \t 1.4890\n",
            "Test Set Average Loss: 0.001483587408065796 , Accuracy: 9790 / 10000 (98%\n",
            ")\n",
            "Train epoch 24 [0 / 60000 (0%)] \t 1.4825\n",
            "Train epoch 24 [20480 / 60000 (34%)] \t 1.4906\n",
            "Train epoch 24 [40960 / 60000 (68%)] \t 1.4888\n",
            "Test Set Average Loss: 0.0014819159865379333 , Accuracy: 9807 / 10000 (98%\n",
            ")\n",
            "Train epoch 25 [0 / 60000 (0%)] \t 1.4819\n",
            "Train epoch 25 [20480 / 60000 (34%)] \t 1.4909\n",
            "Train epoch 25 [40960 / 60000 (68%)] \t 1.4857\n",
            "Test Set Average Loss: 0.0014830274939537048 , Accuracy: 9791 / 10000 (98%\n",
            ")\n",
            "Train epoch 26 [0 / 60000 (0%)] \t 1.4806\n",
            "Train epoch 26 [20480 / 60000 (34%)] \t 1.4868\n",
            "Train epoch 26 [40960 / 60000 (68%)] \t 1.4826\n",
            "Test Set Average Loss: 0.001484436273574829 , Accuracy: 9775 / 10000 (98%\n",
            ")\n",
            "Train epoch 27 [0 / 60000 (0%)] \t 1.4798\n",
            "Train epoch 27 [20480 / 60000 (34%)] \t 1.4845\n",
            "Train epoch 27 [40960 / 60000 (68%)] \t 1.4826\n",
            "Test Set Average Loss: 0.001482743489742279 , Accuracy: 9794 / 10000 (98%\n",
            ")\n",
            "Train epoch 28 [0 / 60000 (0%)] \t 1.4805\n",
            "Train epoch 28 [20480 / 60000 (34%)] \t 1.4843\n",
            "Train epoch 28 [40960 / 60000 (68%)] \t 1.4834\n",
            "Test Set Average Loss: 0.001482709538936615 , Accuracy: 9796 / 10000 (98%\n",
            ")\n",
            "Train epoch 29 [0 / 60000 (0%)] \t 1.4802\n",
            "Train epoch 29 [20480 / 60000 (34%)] \t 1.4838\n",
            "Train epoch 29 [40960 / 60000 (68%)] \t 1.4812\n",
            "Test Set Average Loss: 0.0014824057698249818 , Accuracy: 9795 / 10000 (98%\n",
            ")\n",
            "Train epoch 30 [0 / 60000 (0%)] \t 1.4818\n",
            "Train epoch 30 [20480 / 60000 (34%)] \t 1.4827\n",
            "Train epoch 30 [40960 / 60000 (68%)] \t 1.4844\n",
            "Test Set Average Loss: 0.0014823596715927124 , Accuracy: 9796 / 10000 (98%\n",
            ")\n",
            "Train epoch 31 [0 / 60000 (0%)] \t 1.4814\n",
            "Train epoch 31 [20480 / 60000 (34%)] \t 1.4847\n",
            "Train epoch 31 [40960 / 60000 (68%)] \t 1.4814\n",
            "Test Set Average Loss: 0.0014797969579696656 , Accuracy: 9823 / 10000 (98%\n",
            ")\n",
            "Train epoch 32 [0 / 60000 (0%)] \t 1.4792\n",
            "Train epoch 32 [20480 / 60000 (34%)] \t 1.4871\n",
            "Train epoch 32 [40960 / 60000 (68%)] \t 1.4802\n",
            "Test Set Average Loss: 0.0014802426934242248 , Accuracy: 9817 / 10000 (98%\n",
            ")\n",
            "Train epoch 33 [0 / 60000 (0%)] \t 1.4770\n",
            "Train epoch 33 [20480 / 60000 (34%)] \t 1.4848\n",
            "Train epoch 33 [40960 / 60000 (68%)] \t 1.4813\n",
            "Test Set Average Loss: 0.0014821948051452637 , Accuracy: 9798 / 10000 (98%\n",
            ")\n",
            "Train epoch 34 [0 / 60000 (0%)] \t 1.4780\n",
            "Train epoch 34 [20480 / 60000 (34%)] \t 1.4845\n",
            "Train epoch 34 [40960 / 60000 (68%)] \t 1.4807\n",
            "Test Set Average Loss: 0.0014792490124702453 , Accuracy: 9825 / 10000 (98%\n",
            ")\n",
            "Train epoch 35 [0 / 60000 (0%)] \t 1.4756\n",
            "Train epoch 35 [20480 / 60000 (34%)] \t 1.4828\n",
            "Train epoch 35 [40960 / 60000 (68%)] \t 1.4804\n",
            "Test Set Average Loss: 0.0014775166749954223 , Accuracy: 9844 / 10000 (98%\n",
            ")\n",
            "Train epoch 36 [0 / 60000 (0%)] \t 1.4768\n",
            "Train epoch 36 [20480 / 60000 (34%)] \t 1.4846\n",
            "Train epoch 36 [40960 / 60000 (68%)] \t 1.4790\n",
            "Test Set Average Loss: 0.0014784380793571473 , Accuracy: 9838 / 10000 (98%\n",
            ")\n",
            "Train epoch 37 [0 / 60000 (0%)] \t 1.4766\n",
            "Train epoch 37 [20480 / 60000 (34%)] \t 1.4836\n",
            "Train epoch 37 [40960 / 60000 (68%)] \t 1.4806\n",
            "Test Set Average Loss: 0.001477873158454895 , Accuracy: 9839 / 10000 (98%\n",
            ")\n",
            "Train epoch 38 [0 / 60000 (0%)] \t 1.4765\n",
            "Train epoch 38 [20480 / 60000 (34%)] \t 1.4799\n",
            "Train epoch 38 [40960 / 60000 (68%)] \t 1.4798\n",
            "Test Set Average Loss: 0.0014774315118789674 , Accuracy: 9844 / 10000 (98%\n",
            ")\n",
            "Train epoch 39 [0 / 60000 (0%)] \t 1.4758\n",
            "Train epoch 39 [20480 / 60000 (34%)] \t 1.4776\n",
            "Train epoch 39 [40960 / 60000 (68%)] \t 1.4788\n",
            "Test Set Average Loss: 0.0014774406552314759 , Accuracy: 9842 / 10000 (98%\n",
            ")\n",
            "Train epoch 40 [0 / 60000 (0%)] \t 1.4756\n",
            "Train epoch 40 [20480 / 60000 (34%)] \t 1.4789\n",
            "Train epoch 40 [40960 / 60000 (68%)] \t 1.4782\n",
            "Test Set Average Loss: 0.0014766491055488587 , Accuracy: 9847 / 10000 (98%\n",
            ")\n",
            "Train epoch 41 [0 / 60000 (0%)] \t 1.4752\n",
            "Train epoch 41 [20480 / 60000 (34%)] \t 1.4750\n",
            "Train epoch 41 [40960 / 60000 (68%)] \t 1.4786\n",
            "Test Set Average Loss: 0.001476781940460205 , Accuracy: 9846 / 10000 (98%\n",
            ")\n",
            "Train epoch 42 [0 / 60000 (0%)] \t 1.4782\n",
            "Train epoch 42 [20480 / 60000 (34%)] \t 1.4763\n",
            "Train epoch 42 [40960 / 60000 (68%)] \t 1.4767\n",
            "Test Set Average Loss: 0.001475715208053589 , Accuracy: 9852 / 10000 (99%\n",
            ")\n",
            "Train epoch 43 [0 / 60000 (0%)] \t 1.4753\n",
            "Train epoch 43 [20480 / 60000 (34%)] \t 1.4753\n",
            "Train epoch 43 [40960 / 60000 (68%)] \t 1.4786\n",
            "Test Set Average Loss: 0.0014758773922920227 , Accuracy: 9857 / 10000 (99%\n",
            ")\n",
            "Train epoch 44 [0 / 60000 (0%)] \t 1.4739\n",
            "Train epoch 44 [20480 / 60000 (34%)] \t 1.4737\n",
            "Train epoch 44 [40960 / 60000 (68%)] \t 1.4791\n",
            "Test Set Average Loss: 0.0014753754377365112 , Accuracy: 9862 / 10000 (99%\n",
            ")\n",
            "Train epoch 45 [0 / 60000 (0%)] \t 1.4743\n",
            "Train epoch 45 [20480 / 60000 (34%)] \t 1.4746\n",
            "Train epoch 45 [40960 / 60000 (68%)] \t 1.4775\n",
            "Test Set Average Loss: 0.0014757027864456176 , Accuracy: 9857 / 10000 (99%\n",
            ")\n",
            "Train epoch 46 [0 / 60000 (0%)] \t 1.4744\n",
            "Train epoch 46 [20480 / 60000 (34%)] \t 1.4731\n",
            "Train epoch 46 [40960 / 60000 (68%)] \t 1.4782\n",
            "Test Set Average Loss: 0.0014745396733283997 , Accuracy: 9868 / 10000 (99%\n",
            ")\n",
            "Train epoch 47 [0 / 60000 (0%)] \t 1.4740\n",
            "Train epoch 47 [20480 / 60000 (34%)] \t 1.4721\n",
            "Train epoch 47 [40960 / 60000 (68%)] \t 1.4759\n",
            "Test Set Average Loss: 0.0014758224606513978 , Accuracy: 9860 / 10000 (99%\n",
            ")\n",
            "Train epoch 48 [0 / 60000 (0%)] \t 1.4754\n",
            "Train epoch 48 [20480 / 60000 (34%)] \t 1.4711\n",
            "Train epoch 48 [40960 / 60000 (68%)] \t 1.4739\n",
            "Test Set Average Loss: 0.0014758452296257019 , Accuracy: 9852 / 10000 (99%\n",
            ")\n",
            "Train epoch 49 [0 / 60000 (0%)] \t 1.4738\n",
            "Train epoch 49 [20480 / 60000 (34%)] \t 1.4701\n",
            "Train epoch 49 [40960 / 60000 (68%)] \t 1.4747\n",
            "Test Set Average Loss: 0.0014748122930526733 , Accuracy: 9869 / 10000 (99%\n",
            ")\n"
          ]
        }
      ]
    },
    {
      "cell_type": "markdown",
      "source": [
        "Maximum Accuracy of 98.69 % achieved on test set after 50 epochs."
      ],
      "metadata": {
        "id": "_tLda1HQq6Ma"
      }
    },
    {
      "cell_type": "code",
      "source": [
        "import matplotlib.pyplot as plt\n",
        "import numpy as np\n",
        "from numpy import linspace\n",
        "loss = np.array(loss)\n",
        "accuracy = np.array(accuracy)\n",
        "loss /= len(test_loader.dataset)"
      ],
      "metadata": {
        "id": "ZWlpW_XEh0Q8"
      },
      "execution_count": null,
      "outputs": []
    },
    {
      "cell_type": "markdown",
      "source": [
        "Plotting the Loss values obtained v/s No of Iterations"
      ],
      "metadata": {
        "id": "RaElLLKorQ2y"
      }
    },
    {
      "cell_type": "code",
      "source": [
        "iters = linspace(1,49,49)\n",
        "\n",
        "plt.plot(iters,loss)\n",
        "plt.xlabel('Iterations')\n",
        "plt.ylabel('Loss')\n",
        "plt.title('Loss vs Iterations')\n",
        "plt.show()"
      ],
      "metadata": {
        "colab": {
          "base_uri": "https://localhost:8080/",
          "height": 472
        },
        "id": "CkL0lS-Dh7gT",
        "outputId": "37ff4f6e-6126-4d30-a4f1-f4c5d2adfdda"
      },
      "execution_count": null,
      "outputs": [
        {
          "output_type": "display_data",
          "data": {
            "text/plain": [
              "<Figure size 640x480 with 1 Axes>"
            ],
            "image/png": "[encoded data removed]"
          },
          "metadata": {}
        }
      ]
    },
    {
      "cell_type": "markdown",
      "source": [
        "Plotting the Accuracy values v/s No of iterations"
      ],
      "metadata": {
        "id": "Usqe94nZrZPV"
      }
    },
    {
      "cell_type": "code",
      "source": [
        "plt.plot(iters,accuracy)\n",
        "plt.xlabel('Iterations')\n",
        "plt.ylabel('Accuracy')\n",
        "plt.title('Accuracy vs Iterations')\n",
        "plt.show()\n"
      ],
      "metadata": {
        "colab": {
          "base_uri": "https://localhost:8080/",
          "height": 472
        },
        "id": "RMQi0Nmzi4aX",
        "outputId": "c0676b48-70e2-4023-9b0c-12809f4be1f7"
      },
      "execution_count": null,
      "outputs": [
        {
          "output_type": "display_data",
          "data": {
            "text/plain": [
              "<Figure size 640x480 with 1 Axes>"
            ],
            "image/png": "[encoded data removed]"
          },
          "metadata": {}
        }
      ]
    }
  ]
}